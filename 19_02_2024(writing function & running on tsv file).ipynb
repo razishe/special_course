{
 "cells": [
  {
   "cell_type": "code",
   "execution_count": 9,
   "id": "4334b7fa",
   "metadata": {},
   "outputs": [],
   "source": [
    "import numpy as np\n",
    "from scipy import stats\n",
    "import pandas as pd\n",
    "\n",
    "def read_tsv_file(tsv_file):\n",
    "    \"\"\"\n",
    "    Read data from a TSV file into a DataFrame.\n",
    "    \n",
    "    Parameters:\n",
    "        tsv_file (str): File path of the input TSV file.\n",
    "    \n",
    "    Returns:\n",
    "        pandas.DataFrame: DataFrame containing the data from the TSV file.\n",
    "    \"\"\"\n",
    "    \n",
    "    data = pd.read_csv(tsv_file, sep='\\t')\n",
    "    return data\n",
    "\n",
    "def do_ttest(tsv_file, g1, g2):\n",
    "    \"\"\"\n",
    "    Run a t-test on the data loaded from a TSV file.\n",
    "    \n",
    "    Parameters:\n",
    "        tsv_file (str): File path of the input TSV file.\n",
    "        group1_column (str): Name of the column containing data for group 1.\n",
    "        group2_column (str): Name of the column containing data for group 2.\n",
    "    \n",
    "    Returns:\n",
    "        tuple: A tuple containing the t-statistic and p-value.\n",
    "    \"\"\"\n",
    "    \n",
    "    data = read_tsv_file(tsv_file) \n",
    "    g1 = data[g1]   \n",
    "    g2 = data[g2]\n",
    "    \n",
    "    t_statistic, p_value = stats.ttest_ind(g1, g2)\n",
    "    abs_t_statistic = abs(t_statistic)  \n",
    "\n",
    "    print(\"T-statistic:\", abs_t_statistic)\n",
    "    print(\"P-value:\", p_value)\n",
    "\n",
    "    if p_value < 0.05:\n",
    "        print(\"Result: There is a significant difference between the two groups.\")\n",
    "    else:\n",
    "        print(\"Result: There is no significant difference between the two groups.\")\n",
    "\n",
    "    return abs_t_statistic, p_value\n",
    "\n",
    "\n",
    "def do_ttest_on_dicts(list_dict):\n",
    "    '''\n",
    "    Perform t-test on a list of dictionaries containing group data.\n",
    "    \n",
    "    Parameters:\n",
    "        list_dict (list of dicts): List of dictionaries with 'g1' and 'g2' keys \n",
    "                                    containing the data for the t-test.\n",
    "                                    \n",
    "    Returns:\n",
    "        new_dict_list (list of dicts): List of dictionaries with added 't_statistic' and 'p_value' keys.\n",
    "    '''\n",
    "    new_dict_list = []\n",
    "    for i in list_dict:\n",
    "        g1 = i['g1']\n",
    "        g2 = i['g2']\n",
    "        t_statistic, p_value = do_ttest(g1, g2)\n",
    "        i['t_statistic'] = t_statistic\n",
    "        i['p_value'] = p_value\n",
    "        new_dict_list.append(i)\n",
    "    return new_dict_list\n",
    "\n",
    "def write_as_tsv_file(new_dict_list, outfile):\n",
    "    \"\"\"\n",
    "    Write a list of dictionaries to a TSV file using pandas.\n",
    "    \n",
    "    Parameters:\n",
    "        new_dict_list (list): List of dictionaries to be written to the file.\n",
    "        outfile (str): Name of the output TSV file.\n",
    "    \"\"\"\n",
    "    df = pd.DataFrame(new_dict_list)\n",
    "    \n",
    "    df.to_csv(outfile, sep='\\t', index=False)\n",
    "    \n",
    "    return outfile\n",
    "\n",
    "\n"
   ]
  },
  {
   "cell_type": "code",
   "execution_count": 10,
   "id": "bfa4c17b",
   "metadata": {},
   "outputs": [
    {
     "name": "stdout",
     "output_type": "stream",
     "text": [
      "T-statistic: 2.4326625329624174\n",
      "P-value: 0.01588599534648828\n",
      "Result: There is a significant difference between the two groups.\n"
     ]
    },
    {
     "data": {
      "text/plain": [
       "'output_data.tsv'"
      ]
     },
     "execution_count": 10,
     "metadata": {},
     "output_type": "execute_result"
    }
   ],
   "source": [
    "tsv_file = '/Users/raziashekh/Documents/special course/prototyping_feature_table.tsv' \n",
    "group1_column = 'Sample1_A_Ac-C18_POS_UMETAB404_NBC01469_ISP2_20_B7.mzML'\n",
    "group2_column = 'Sample1_B'\n",
    "\n",
    "\n",
    "t_statistic, p_value = do_ttest(tsv_file, group1_column, group2_column)\n",
    "\n",
    "\n",
    "list_dict = [{'g1': group1_column, 'g2': group2_column, 't_statistic': t_statistic, 'p_value': p_value}]\n",
    "\n",
    "\n",
    "output_filename = \"output_data.tsv\"\n",
    "write_as_tsv_file(list_dict, output_filename)"
   ]
  },
  {
   "cell_type": "code",
   "execution_count": null,
   "id": "d8ed4a49",
   "metadata": {},
   "outputs": [],
   "source": []
  }
 ],
 "metadata": {
  "kernelspec": {
   "display_name": "Python 3 (ipykernel)",
   "language": "python",
   "name": "python3"
  },
  "language_info": {
   "codemirror_mode": {
    "name": "ipython",
    "version": 3
   },
   "file_extension": ".py",
   "mimetype": "text/x-python",
   "name": "python",
   "nbconvert_exporter": "python",
   "pygments_lexer": "ipython3",
   "version": "3.11.4"
  }
 },
 "nbformat": 4,
 "nbformat_minor": 5
}
